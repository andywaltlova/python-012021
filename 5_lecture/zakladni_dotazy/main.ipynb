{
 "cells": [
  {
   "cell_type": "code",
   "execution_count": null,
   "metadata": {
    "scrolled": true
   },
   "outputs": [],
   "source": [
    "import pandas as pd\n",
    "import wget\n",
    "from datetime import datetime\n",
    "\n",
    "# wget.download('https://raw.githubusercontent.com/podlomar/python-data/master/datova-analyza/pandas-dotazy/excs/ceska-jmena/assets/jmena100.csv')"
   ]
  },
  {
   "cell_type": "markdown",
   "metadata": {},
   "source": [
    "## 1. Česká jména\n",
    "Stáhni si soubor jmena.csv, který obsahuje tabulku 100 nejpoužívanějších českých křestních jmen seřazených od nejpoužívanějšího k nejméně používanému. Otevři Python konzoli a pomocí Pandasu načti tuto tabulku jako DataFrame. **Jako index zvol sloupec s názvem `jméno`.**\n",
    "\n",
    "Datový soubor obsahuje následující sloupečky\n",
    "\n",
    "- **jméno**   - křestní jméno\n",
    "- **četnost** - počet obyvatel ČR mající toto jméno\n",
    "- **věk**     - průměrný věk nositelů jména\n",
    "- **pohlaví** - zda je jméno mužské či ženské\n",
    "- **svátek**  - datum, kdy má dané jméno svátek\n",
    "- **původ**   - původ jména\n",
    "\n",
    "Vyřešte následující úkoly."
   ]
  },
  {
   "cell_type": "code",
   "execution_count": null,
   "metadata": {
    "scrolled": true
   },
   "outputs": [],
   "source": [
    "jmena = pd.read_csv('jmena100.csv')\n",
    "jmena = jmena.rename(columns={\n",
    "    'jméno':'jmeno',\n",
    "    'četnost':'cetnost',\n",
    "    'věk':'vek',\n",
    "    'pohlaví':'pohlavi',\n",
    "    'svátek':'svatek',\n",
    "    'původ':'puvod',\n",
    "})\n",
    "\n",
    "jmena = jmena.set_index('jmeno')\n",
    "\n",
    "jmena"
   ]
  },
  {
   "cell_type": "markdown",
   "metadata": {},
   "source": [
    "### Vypište na konzoli informace o jménu Jiří."
   ]
  },
  {
   "cell_type": "code",
   "execution_count": null,
   "metadata": {
    "scrolled": true
   },
   "outputs": [],
   "source": [
    "jmena.loc[['Jiří']]"
   ]
  },
  {
   "cell_type": "markdown",
   "metadata": {},
   "source": [
    "### Vypište na konzoli informace pro jména Martin, Zuzana a Josef."
   ]
  },
  {
   "cell_type": "code",
   "execution_count": null,
   "metadata": {
    "scrolled": true
   },
   "outputs": [],
   "source": [
    "jmena.loc[['Martin','Zuzana','Josef']]"
   ]
  },
  {
   "cell_type": "markdown",
   "metadata": {},
   "source": [
    "### Vypište na konzoli informace o všech nejčastějších jménech až po Jiřího."
   ]
  },
  {
   "cell_type": "code",
   "execution_count": null,
   "metadata": {
    "scrolled": true
   },
   "outputs": [],
   "source": [
    "jmena = jmena.sort_index()\n",
    "#print(jmena.loc[:'Jiří'])\n",
    "\n",
    "jmena = jmena.sort_values(by='cetnost', ascending=False)\n",
    "jmena"
   ]
  },
  {
   "cell_type": "markdown",
   "metadata": {},
   "source": [
    "### Vypište pouze průměrné věky osob mající jména mezi Martinem a Terezou."
   ]
  },
  {
   "cell_type": "code",
   "execution_count": null,
   "metadata": {
    "scrolled": true
   },
   "outputs": [],
   "source": [
    "jmena.loc['Martin':'Tereza', 'vek']"
   ]
  },
  {
   "cell_type": "markdown",
   "metadata": {},
   "source": [
    "### Vypište průměrný věk a původ pro všechna jména od Libora dolů."
   ]
  },
  {
   "cell_type": "code",
   "execution_count": null,
   "metadata": {
    "scrolled": true
   },
   "outputs": [],
   "source": [
    "jmena.loc['Libor':, ['vek','puvod']]"
   ]
  },
  {
   "cell_type": "markdown",
   "metadata": {},
   "source": [
    "### Vypište sloupečky mezi věkem a původem pro všechna jména v tabulce."
   ]
  },
  {
   "cell_type": "code",
   "execution_count": null,
   "metadata": {
    "scrolled": true
   },
   "outputs": [],
   "source": [
    "jmena.loc[:,'vek':'puvod']\n",
    "jmena.iloc[:, 2:-1]"
   ]
  },
  {
   "cell_type": "markdown",
   "metadata": {},
   "source": [
    "## 2. Česká jména\n",
    "\n",
    "Stáhni si soubor jmena100.csv se jmény tak, aby Pandas vyrobil číselný index. Proveď následující dotazy:"
   ]
  },
  {
   "cell_type": "code",
   "execution_count": null,
   "metadata": {
    "scrolled": true
   },
   "outputs": [],
   "source": [
    "jmena = pd.read_csv('jmena100.csv')\n",
    "jmena = jmena.rename(columns={\n",
    "    'jméno':'jmeno',\n",
    "    'četnost':'cetnost',\n",
    "    'věk':'vek',\n",
    "    'pohlaví':'pohlavi',\n",
    "    'svátek':'svatek',\n",
    "    'původ':'puvod',\n",
    "})\n",
    "jmena"
   ]
  },
  {
   "cell_type": "markdown",
   "metadata": {},
   "source": [
    "### Vypiš všechny řádky se jmény, jejichž nositelé mají průměrný věk vyšší než 60."
   ]
  },
  {
   "cell_type": "code",
   "execution_count": null,
   "metadata": {
    "scrolled": true
   },
   "outputs": [],
   "source": [
    "greater_than_60 = jmena['vek'] > 60\n",
    "\n",
    "\n",
    "jmena[greater_than_60]"
   ]
  },
  {
   "cell_type": "markdown",
   "metadata": {},
   "source": [
    "### Vypiš pouze jména z těch řádků, kde četnost je mezi 80 000 a 100 000."
   ]
  },
  {
   "cell_type": "code",
   "execution_count": null,
   "metadata": {
    "scrolled": true
   },
   "outputs": [],
   "source": [
    "condition = (jmena['cetnost'] > 80_000) & (jmena['cetnost'] < 100_000)\n",
    "jmena[condition]"
   ]
  },
  {
   "cell_type": "markdown",
   "metadata": {},
   "source": [
    "### Vypiš jména a četnost pro jména se slovanským nebo hebrejským původem. Kolik takových jmen je?\n"
   ]
  },
  {
   "cell_type": "code",
   "execution_count": null,
   "metadata": {
    "scrolled": true
   },
   "outputs": [],
   "source": [
    "# condition = jmena['puvod'].isin(['hebrejský','slovanský'])\n",
    "condition = (jmena['puvod']=='hebrejský') | (jmena['puvod']=='slovanský')\n",
    "\n",
    "jmena[condition][['jmeno','cetnost']]"
   ]
  },
  {
   "cell_type": "markdown",
   "metadata": {},
   "source": [
    "### Vypiš všechna jména, která mají svátek první 3 dny v únoru."
   ]
  },
  {
   "cell_type": "code",
   "execution_count": null,
   "metadata": {
    "scrolled": true
   },
   "outputs": [],
   "source": [
    "condition = jmena['svatek'].isin(['1.2','2.2','3.2'])\n",
    "jmena[condition]"
   ]
  },
  {
   "cell_type": "code",
   "execution_count": null,
   "metadata": {},
   "outputs": [],
   "source": [
    "condition = (jmena['jmeno'] != 'Petr') & (jmena['jmeno'] != 'Jan')\n",
    "\n",
    "jmena['svatek'] = jmena['svatek'] + '.2021'\n",
    "jmena = jmena[condition].copy()\n",
    "\n",
    "jmena['svatek'] = pd.to_datetime(jmena['svatek'], format='%d.%m.%Y')\n",
    "jmena"
   ]
  },
  {
   "cell_type": "code",
   "execution_count": null,
   "metadata": {},
   "outputs": [],
   "source": [
    "jmena.sort_values(by='svatek')"
   ]
  },
  {
   "cell_type": "code",
   "execution_count": null,
   "metadata": {},
   "outputs": [],
   "source": [
    "jmena['mesic'] = jmena['svatek'].dt.month\n",
    "jmena[jmena['mesic'] == 2]"
   ]
  },
  {
   "cell_type": "code",
   "execution_count": null,
   "metadata": {},
   "outputs": [],
   "source": []
  }
 ],
 "metadata": {
  "kernelspec": {
   "display_name": "Python 3",
   "language": "python",
   "name": "python3"
  },
  "language_info": {
   "codemirror_mode": {
    "name": "ipython",
    "version": 3
   },
   "file_extension": ".py",
   "mimetype": "text/x-python",
   "name": "python",
   "nbconvert_exporter": "python",
   "pygments_lexer": "ipython3",
   "version": "3.9.0"
  }
 },
 "nbformat": 4,
 "nbformat_minor": 1
}
