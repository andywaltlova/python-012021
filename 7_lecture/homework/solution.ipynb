{
 "cells": [
  {
   "cell_type": "code",
   "execution_count": 2,
   "metadata": {},
   "outputs": [],
   "source": [
    "import wget\n",
    "import pandas as pd\n",
    "import matplotlib.pyplot as plt"
   ]
  },
  {
   "cell_type": "markdown",
   "metadata": {},
   "source": [
    "# 1. Řazení\n",
    "\n",
    "Vrať se k práci se souborem [temperature.csv](temperature.csv), který obsahuje informace o průměrné teplotě v různých městech v **listopadu 2017**.\n",
    "\n",
    "```python\n",
    "import wget\n",
    "wget.download(\"https://raw.githubusercontent.com/pesikj/python-012021/master/zadani/5/temperature.csv\")\n",
    "```\n",
    "\n",
    "*Pokud jsi v předminulé lekci zpracovala rozšířené zadání, můžeš pracovat s teplotami ve stupních Celsia.*\n",
    "\n",
    "* Vyfiltruj si informace o teplotách 13. listopadu 2017.\n",
    "* Vyřaď všechny záznamy, které mají teplotu -99, protože tato hodnota je pravděpodobně chybná.\n",
    "* Seřad hodnoty v souboru podle teploty od největší po nejmenší.\n",
    "* Vypiš pět měst s nejvyšší teplotou a pět měst s nejnižší teplotou."
   ]
  },
  {
   "cell_type": "code",
   "execution_count": 9,
   "metadata": {},
   "outputs": [
    {
     "data": {
      "text/html": [
       "<div>\n",
       "<style scoped>\n",
       "    .dataframe tbody tr th:only-of-type {\n",
       "        vertical-align: middle;\n",
       "    }\n",
       "\n",
       "    .dataframe tbody tr th {\n",
       "        vertical-align: top;\n",
       "    }\n",
       "\n",
       "    .dataframe thead th {\n",
       "        text-align: right;\n",
       "    }\n",
       "</style>\n",
       "<table border=\"1\" class=\"dataframe\">\n",
       "  <thead>\n",
       "    <tr style=\"text-align: right;\">\n",
       "      <th></th>\n",
       "      <th>Region</th>\n",
       "      <th>Country</th>\n",
       "      <th>City</th>\n",
       "      <th>Day</th>\n",
       "      <th>AvgTemperature</th>\n",
       "    </tr>\n",
       "    <tr>\n",
       "      <th>Unnamed: 0</th>\n",
       "      <th></th>\n",
       "      <th></th>\n",
       "      <th></th>\n",
       "      <th></th>\n",
       "      <th></th>\n",
       "    </tr>\n",
       "  </thead>\n",
       "  <tbody>\n",
       "    <tr>\n",
       "      <th>0</th>\n",
       "      <td>Africa</td>\n",
       "      <td>Algeria</td>\n",
       "      <td>Algiers</td>\n",
       "      <td>1</td>\n",
       "      <td>62.0</td>\n",
       "    </tr>\n",
       "    <tr>\n",
       "      <th>1</th>\n",
       "      <td>Africa</td>\n",
       "      <td>Algeria</td>\n",
       "      <td>Algiers</td>\n",
       "      <td>2</td>\n",
       "      <td>62.2</td>\n",
       "    </tr>\n",
       "    <tr>\n",
       "      <th>2</th>\n",
       "      <td>Africa</td>\n",
       "      <td>Algeria</td>\n",
       "      <td>Algiers</td>\n",
       "      <td>3</td>\n",
       "      <td>65.7</td>\n",
       "    </tr>\n",
       "    <tr>\n",
       "      <th>3</th>\n",
       "      <td>Africa</td>\n",
       "      <td>Algeria</td>\n",
       "      <td>Algiers</td>\n",
       "      <td>4</td>\n",
       "      <td>69.8</td>\n",
       "    </tr>\n",
       "    <tr>\n",
       "      <th>4</th>\n",
       "      <td>Africa</td>\n",
       "      <td>Algeria</td>\n",
       "      <td>Algiers</td>\n",
       "      <td>5</td>\n",
       "      <td>63.8</td>\n",
       "    </tr>\n",
       "    <tr>\n",
       "      <th>...</th>\n",
       "      <td>...</td>\n",
       "      <td>...</td>\n",
       "      <td>...</td>\n",
       "      <td>...</td>\n",
       "      <td>...</td>\n",
       "    </tr>\n",
       "    <tr>\n",
       "      <th>8785</th>\n",
       "      <td>North America</td>\n",
       "      <td>US</td>\n",
       "      <td>Cheyenne</td>\n",
       "      <td>26</td>\n",
       "      <td>51.7</td>\n",
       "    </tr>\n",
       "    <tr>\n",
       "      <th>8786</th>\n",
       "      <td>North America</td>\n",
       "      <td>US</td>\n",
       "      <td>Cheyenne</td>\n",
       "      <td>27</td>\n",
       "      <td>55.5</td>\n",
       "    </tr>\n",
       "    <tr>\n",
       "      <th>8787</th>\n",
       "      <td>North America</td>\n",
       "      <td>US</td>\n",
       "      <td>Cheyenne</td>\n",
       "      <td>28</td>\n",
       "      <td>38.5</td>\n",
       "    </tr>\n",
       "    <tr>\n",
       "      <th>8788</th>\n",
       "      <td>North America</td>\n",
       "      <td>US</td>\n",
       "      <td>Cheyenne</td>\n",
       "      <td>29</td>\n",
       "      <td>36.8</td>\n",
       "    </tr>\n",
       "    <tr>\n",
       "      <th>8789</th>\n",
       "      <td>North America</td>\n",
       "      <td>US</td>\n",
       "      <td>Cheyenne</td>\n",
       "      <td>30</td>\n",
       "      <td>36.9</td>\n",
       "    </tr>\n",
       "  </tbody>\n",
       "</table>\n",
       "<p>8790 rows × 5 columns</p>\n",
       "</div>"
      ],
      "text/plain": [
       "                   Region  Country      City  Day  AvgTemperature\n",
       "Unnamed: 0                                                       \n",
       "0                  Africa  Algeria   Algiers    1            62.0\n",
       "1                  Africa  Algeria   Algiers    2            62.2\n",
       "2                  Africa  Algeria   Algiers    3            65.7\n",
       "3                  Africa  Algeria   Algiers    4            69.8\n",
       "4                  Africa  Algeria   Algiers    5            63.8\n",
       "...                   ...      ...       ...  ...             ...\n",
       "8785        North America       US  Cheyenne   26            51.7\n",
       "8786        North America       US  Cheyenne   27            55.5\n",
       "8787        North America       US  Cheyenne   28            38.5\n",
       "8788        North America       US  Cheyenne   29            36.8\n",
       "8789        North America       US  Cheyenne   30            36.9\n",
       "\n",
       "[8790 rows x 5 columns]"
      ]
     },
     "execution_count": 9,
     "metadata": {},
     "output_type": "execute_result"
    }
   ],
   "source": [
    "# wget.download(\"https://raw.githubusercontent.com/pesikj/python-012021/master/zadani/5/temperature.csv\")\n",
    "\n",
    "teploty = pd.read_csv('temperature.csv',index_col=0)\n",
    "\n",
    "teploty"
   ]
  },
  {
   "cell_type": "code",
   "execution_count": 18,
   "metadata": {},
   "outputs": [
    {
     "data": {
      "text/html": [
       "<div>\n",
       "<style scoped>\n",
       "    .dataframe tbody tr th:only-of-type {\n",
       "        vertical-align: middle;\n",
       "    }\n",
       "\n",
       "    .dataframe tbody tr th {\n",
       "        vertical-align: top;\n",
       "    }\n",
       "\n",
       "    .dataframe thead th {\n",
       "        text-align: right;\n",
       "    }\n",
       "</style>\n",
       "<table border=\"1\" class=\"dataframe\">\n",
       "  <thead>\n",
       "    <tr style=\"text-align: right;\">\n",
       "      <th></th>\n",
       "      <th>Region</th>\n",
       "      <th>Country</th>\n",
       "      <th>City</th>\n",
       "      <th>Day</th>\n",
       "      <th>AvgTemperature</th>\n",
       "    </tr>\n",
       "    <tr>\n",
       "      <th>Unnamed: 0</th>\n",
       "      <th></th>\n",
       "      <th></th>\n",
       "      <th></th>\n",
       "      <th></th>\n",
       "      <th></th>\n",
       "    </tr>\n",
       "  </thead>\n",
       "  <tbody>\n",
       "    <tr>\n",
       "      <th>252</th>\n",
       "      <td>Africa</td>\n",
       "      <td>Guinea</td>\n",
       "      <td>Conakry</td>\n",
       "      <td>13</td>\n",
       "      <td>85.0</td>\n",
       "    </tr>\n",
       "    <tr>\n",
       "      <th>1482</th>\n",
       "      <td>Asia</td>\n",
       "      <td>Philippines</td>\n",
       "      <td>Manila</td>\n",
       "      <td>13</td>\n",
       "      <td>84.5</td>\n",
       "    </tr>\n",
       "    <tr>\n",
       "      <th>1272</th>\n",
       "      <td>Asia</td>\n",
       "      <td>Malaysia</td>\n",
       "      <td>Kuala Lumpur</td>\n",
       "      <td>13</td>\n",
       "      <td>84.3</td>\n",
       "    </tr>\n",
       "    <tr>\n",
       "      <th>642</th>\n",
       "      <td>Africa</td>\n",
       "      <td>Togo</td>\n",
       "      <td>Lome</td>\n",
       "      <td>13</td>\n",
       "      <td>84.2</td>\n",
       "    </tr>\n",
       "    <tr>\n",
       "      <th>4002</th>\n",
       "      <td>South/Central America &amp; Carribean</td>\n",
       "      <td>Haiti</td>\n",
       "      <td>Port au Prince</td>\n",
       "      <td>13</td>\n",
       "      <td>84.1</td>\n",
       "    </tr>\n",
       "    <tr>\n",
       "      <th>...</th>\n",
       "      <td>...</td>\n",
       "      <td>...</td>\n",
       "      <td>...</td>\n",
       "      <td>...</td>\n",
       "      <td>...</td>\n",
       "    </tr>\n",
       "    <tr>\n",
       "      <th>5952</th>\n",
       "      <td>North America</td>\n",
       "      <td>US</td>\n",
       "      <td>Caribou</td>\n",
       "      <td>13</td>\n",
       "      <td>24.8</td>\n",
       "    </tr>\n",
       "    <tr>\n",
       "      <th>3432</th>\n",
       "      <td>North America</td>\n",
       "      <td>Canada</td>\n",
       "      <td>Quebec</td>\n",
       "      <td>13</td>\n",
       "      <td>23.4</td>\n",
       "    </tr>\n",
       "    <tr>\n",
       "      <th>3462</th>\n",
       "      <td>North America</td>\n",
       "      <td>Canada</td>\n",
       "      <td>Regina</td>\n",
       "      <td>13</td>\n",
       "      <td>21.7</td>\n",
       "    </tr>\n",
       "    <tr>\n",
       "      <th>4332</th>\n",
       "      <td>North America</td>\n",
       "      <td>US</td>\n",
       "      <td>Anchorage</td>\n",
       "      <td>13</td>\n",
       "      <td>16.2</td>\n",
       "    </tr>\n",
       "    <tr>\n",
       "      <th>1302</th>\n",
       "      <td>Asia</td>\n",
       "      <td>Mongolia</td>\n",
       "      <td>Ulan-bator</td>\n",
       "      <td>13</td>\n",
       "      <td>-5.1</td>\n",
       "    </tr>\n",
       "  </tbody>\n",
       "</table>\n",
       "<p>291 rows × 5 columns</p>\n",
       "</div>"
      ],
      "text/plain": [
       "                                       Region      Country            City  \\\n",
       "Unnamed: 0                                                                   \n",
       "252                                    Africa       Guinea         Conakry   \n",
       "1482                                     Asia  Philippines          Manila   \n",
       "1272                                     Asia     Malaysia    Kuala Lumpur   \n",
       "642                                    Africa         Togo            Lome   \n",
       "4002        South/Central America & Carribean        Haiti  Port au Prince   \n",
       "...                                       ...          ...             ...   \n",
       "5952                            North America           US         Caribou   \n",
       "3432                            North America       Canada          Quebec   \n",
       "3462                            North America       Canada          Regina   \n",
       "4332                            North America           US       Anchorage   \n",
       "1302                                     Asia     Mongolia      Ulan-bator   \n",
       "\n",
       "            Day  AvgTemperature  \n",
       "Unnamed: 0                       \n",
       "252          13            85.0  \n",
       "1482         13            84.5  \n",
       "1272         13            84.3  \n",
       "642          13            84.2  \n",
       "4002         13            84.1  \n",
       "...         ...             ...  \n",
       "5952         13            24.8  \n",
       "3432         13            23.4  \n",
       "3462         13            21.7  \n",
       "4332         13            16.2  \n",
       "1302         13            -5.1  \n",
       "\n",
       "[291 rows x 5 columns]"
      ]
     },
     "execution_count": 18,
     "metadata": {},
     "output_type": "execute_result"
    }
   ],
   "source": [
    "teploty = teploty[(teploty.Day == 13) & (teploty.AvgTemperature != -99)]\n",
    "teploty = teploty.sort_values(by=['AvgTemperature'],ascending=False)\n",
    "teploty"
   ]
  },
  {
   "cell_type": "code",
   "execution_count": 19,
   "metadata": {},
   "outputs": [
    {
     "data": {
      "text/html": [
       "<div>\n",
       "<style scoped>\n",
       "    .dataframe tbody tr th:only-of-type {\n",
       "        vertical-align: middle;\n",
       "    }\n",
       "\n",
       "    .dataframe tbody tr th {\n",
       "        vertical-align: top;\n",
       "    }\n",
       "\n",
       "    .dataframe thead th {\n",
       "        text-align: right;\n",
       "    }\n",
       "</style>\n",
       "<table border=\"1\" class=\"dataframe\">\n",
       "  <thead>\n",
       "    <tr style=\"text-align: right;\">\n",
       "      <th></th>\n",
       "      <th>Region</th>\n",
       "      <th>Country</th>\n",
       "      <th>City</th>\n",
       "      <th>Day</th>\n",
       "      <th>AvgTemperature</th>\n",
       "    </tr>\n",
       "    <tr>\n",
       "      <th>Unnamed: 0</th>\n",
       "      <th></th>\n",
       "      <th></th>\n",
       "      <th></th>\n",
       "      <th></th>\n",
       "      <th></th>\n",
       "    </tr>\n",
       "  </thead>\n",
       "  <tbody>\n",
       "    <tr>\n",
       "      <th>5952</th>\n",
       "      <td>North America</td>\n",
       "      <td>US</td>\n",
       "      <td>Caribou</td>\n",
       "      <td>13</td>\n",
       "      <td>24.8</td>\n",
       "    </tr>\n",
       "    <tr>\n",
       "      <th>3432</th>\n",
       "      <td>North America</td>\n",
       "      <td>Canada</td>\n",
       "      <td>Quebec</td>\n",
       "      <td>13</td>\n",
       "      <td>23.4</td>\n",
       "    </tr>\n",
       "    <tr>\n",
       "      <th>3462</th>\n",
       "      <td>North America</td>\n",
       "      <td>Canada</td>\n",
       "      <td>Regina</td>\n",
       "      <td>13</td>\n",
       "      <td>21.7</td>\n",
       "    </tr>\n",
       "    <tr>\n",
       "      <th>4332</th>\n",
       "      <td>North America</td>\n",
       "      <td>US</td>\n",
       "      <td>Anchorage</td>\n",
       "      <td>13</td>\n",
       "      <td>16.2</td>\n",
       "    </tr>\n",
       "    <tr>\n",
       "      <th>1302</th>\n",
       "      <td>Asia</td>\n",
       "      <td>Mongolia</td>\n",
       "      <td>Ulan-bator</td>\n",
       "      <td>13</td>\n",
       "      <td>-5.1</td>\n",
       "    </tr>\n",
       "  </tbody>\n",
       "</table>\n",
       "</div>"
      ],
      "text/plain": [
       "                   Region   Country        City  Day  AvgTemperature\n",
       "Unnamed: 0                                                          \n",
       "5952        North America        US     Caribou   13            24.8\n",
       "3432        North America    Canada      Quebec   13            23.4\n",
       "3462        North America    Canada      Regina   13            21.7\n",
       "4332        North America        US   Anchorage   13            16.2\n",
       "1302                 Asia  Mongolia  Ulan-bator   13            -5.1"
      ]
     },
     "execution_count": 19,
     "metadata": {},
     "output_type": "execute_result"
    }
   ],
   "source": [
    " teploty.tail() #nejnizsi"
   ]
  },
  {
   "cell_type": "code",
   "execution_count": 20,
   "metadata": {},
   "outputs": [
    {
     "data": {
      "text/html": [
       "<div>\n",
       "<style scoped>\n",
       "    .dataframe tbody tr th:only-of-type {\n",
       "        vertical-align: middle;\n",
       "    }\n",
       "\n",
       "    .dataframe tbody tr th {\n",
       "        vertical-align: top;\n",
       "    }\n",
       "\n",
       "    .dataframe thead th {\n",
       "        text-align: right;\n",
       "    }\n",
       "</style>\n",
       "<table border=\"1\" class=\"dataframe\">\n",
       "  <thead>\n",
       "    <tr style=\"text-align: right;\">\n",
       "      <th></th>\n",
       "      <th>Region</th>\n",
       "      <th>Country</th>\n",
       "      <th>City</th>\n",
       "      <th>Day</th>\n",
       "      <th>AvgTemperature</th>\n",
       "    </tr>\n",
       "    <tr>\n",
       "      <th>Unnamed: 0</th>\n",
       "      <th></th>\n",
       "      <th></th>\n",
       "      <th></th>\n",
       "      <th></th>\n",
       "      <th></th>\n",
       "    </tr>\n",
       "  </thead>\n",
       "  <tbody>\n",
       "    <tr>\n",
       "      <th>252</th>\n",
       "      <td>Africa</td>\n",
       "      <td>Guinea</td>\n",
       "      <td>Conakry</td>\n",
       "      <td>13</td>\n",
       "      <td>85.0</td>\n",
       "    </tr>\n",
       "    <tr>\n",
       "      <th>1482</th>\n",
       "      <td>Asia</td>\n",
       "      <td>Philippines</td>\n",
       "      <td>Manila</td>\n",
       "      <td>13</td>\n",
       "      <td>84.5</td>\n",
       "    </tr>\n",
       "    <tr>\n",
       "      <th>1272</th>\n",
       "      <td>Asia</td>\n",
       "      <td>Malaysia</td>\n",
       "      <td>Kuala Lumpur</td>\n",
       "      <td>13</td>\n",
       "      <td>84.3</td>\n",
       "    </tr>\n",
       "    <tr>\n",
       "      <th>642</th>\n",
       "      <td>Africa</td>\n",
       "      <td>Togo</td>\n",
       "      <td>Lome</td>\n",
       "      <td>13</td>\n",
       "      <td>84.2</td>\n",
       "    </tr>\n",
       "    <tr>\n",
       "      <th>4002</th>\n",
       "      <td>South/Central America &amp; Carribean</td>\n",
       "      <td>Haiti</td>\n",
       "      <td>Port au Prince</td>\n",
       "      <td>13</td>\n",
       "      <td>84.1</td>\n",
       "    </tr>\n",
       "  </tbody>\n",
       "</table>\n",
       "</div>"
      ],
      "text/plain": [
       "                                       Region      Country            City  \\\n",
       "Unnamed: 0                                                                   \n",
       "252                                    Africa       Guinea         Conakry   \n",
       "1482                                     Asia  Philippines          Manila   \n",
       "1272                                     Asia     Malaysia    Kuala Lumpur   \n",
       "642                                    Africa         Togo            Lome   \n",
       "4002        South/Central America & Carribean        Haiti  Port au Prince   \n",
       "\n",
       "            Day  AvgTemperature  \n",
       "Unnamed: 0                       \n",
       "252          13            85.0  \n",
       "1482         13            84.5  \n",
       "1272         13            84.3  \n",
       "642          13            84.2  \n",
       "4002         13            84.1  "
      ]
     },
     "execution_count": 20,
     "metadata": {},
     "output_type": "execute_result"
    }
   ],
   "source": [
    "teploty.head() #nejvyssi"
   ]
  },
  {
   "cell_type": "markdown",
   "metadata": {},
   "source": [
    "# 2. Histogram platů\n",
    "\n",
    "Stáhni si znovu soubor [platy_2021_02.csv](platy_2021_02.csv) s informacemi o platech v softwarové firmě, se kterými jsme již pracovali v [příkladu 26](../6/priklad26.md).\n",
    "\n",
    "```python\n",
    "\n",
    "import wget\n",
    "wget.download(\"https://raw.githubusercontent.com/pesikj/python-012021/master/zadani/6/platy_2021_02.csv\")\n",
    "\n",
    "```\n",
    "\n",
    "Načti si tato data do tabulky a vytvoř histogram. Nastav vhodně hranice skupin histogramu (parametr `bins`), aby byl graf přehledný a snadno interpretovatelný.\n",
    "\n",
    "### Dobrovolný doplněk\n",
    "\n",
    "Vyzkoušej si vytvořit podgrafy. `pandas` a `matplotlib` to umí poměrně jednoduše a to pomocí parametru `by` metody `hist()`. Jako parametr vlož sloupec, podle kterého chceš data do podgrafů rozdělit. Musíš vložit sloupec ve formě dat, nikoli pouze jeho název. \n",
    "\n",
    "Vytvoř pro zadaná data podgrafy pro jednotlivá města. Načti si informace o městě, ve kterém jednotliví pracovníci pracují (to jsme již dělali v příkladu) [příkladu 26](../6/priklad26.md). Následně sloupec `mesto` použij na rozdělení podgrafů.\n",
    "\n",
    "Příklad výstupu je na obrázku níže.\n",
    "\n",
    "![Figure_1.png](Figure_1.png)"
   ]
  },
  {
   "cell_type": "code",
   "execution_count": 32,
   "metadata": {},
   "outputs": [
    {
     "data": {
      "image/png": "[encoded data removed]",
      "text/plain": [
       "<Figure size 432x288 with 1 Axes>"
      ]
     },
     "metadata": {
      "needs_background": "light"
     },
     "output_type": "display_data"
    }
   ],
   "source": [
    "# wget.download(\"https://raw.githubusercontent.com/pesikj/python-012021/master/zadani/6/platy_2021_02.csv\")\n",
    "\n",
    "platy = pd.read_csv('platy_2021_02.csv')\n",
    "platy.hist(column='plat',bins=50)\n",
    "plt.show()"
   ]
  },
  {
   "cell_type": "code",
   "execution_count": 8,
   "metadata": {},
   "outputs": [
    {
     "data": {
      "image/png": "[encoded data removed]",
      "text/plain": [
       "<Figure size 432x288 with 4 Axes>"
      ]
     },
     "metadata": {
      "needs_background": "light"
     },
     "output_type": "display_data"
    }
   ],
   "source": [
    "# Doplnek\n",
    "platy_mesta = pd.read_csv('platy_mesta.csv')\n",
    "\n",
    "platy_mesta.hist(column='plat',by=platy_mesta.mesto)\n",
    "plt.show()"
   ]
  },
  {
   "cell_type": "markdown",
   "metadata": {},
   "source": [
    "# 3. Twilio podruhé\n",
    "\n",
    "Stáhni si soubor [twlo.csv](twlo.csv), který obsahuje informace o vývoji ceny akcie firmy [Twilio](https://www.twilio.com/) od začátku roku 2020. Soubor obsahuje informace o otevírací, minimální, maximální a uzavírací ceně za každý den.\n",
    "\n",
    "Stažení souboru pomocí `wget`:\n",
    "\n",
    "```python\n",
    "import wget\n",
    "wget.download(\"https://raw.githubusercontent.com/pesikj/python-012021/master/zadani/5/twlo.csv\")\n",
    "\n",
    "import pandas\n",
    "import matplotlib.pyplot as plt\n",
    "\n",
    "twilio = pandas.read_csv(\"twlo.csv\")\n",
    "```\n",
    "\n",
    "Výše uvedeným programem načti data o vývoji ceny akcie. Vytvoř čárový graf vývoje zavírací ceny akcie (sloupec `Close`) v čase.\n",
    "\n",
    "Zkus nyní převést sloupec `Date` na typ `datetime` příkazem níže a vytvoř stejný graf jako předtím. Porovnej grafy a zjisti, co se změnilo.\n",
    "\n",
    "```python\n",
    "twilio[\"Date\"] = pandas.to_datetime(twilio[\"Date\"])\n",
    "```\n",
    "\n",
    "### Dobrovolný doplněk\n",
    "\n",
    "Přidej ke grafům popisky os a titulky. Po zavolání funkce `plot()` si výsledek ulož do proměnné `ax`. Následně zavolej metodu `set_ylabel()`, abys nastavila popisek osy *y* grafu.\n",
    "\n",
    "```python\n",
    "ax = twilio.plot()\n",
    "ax.set_ylabel(\"Cena v dolarech\")\n",
    "```\n",
    "\n",
    "Obdobně využij metody `set_title()` a `set_xlabel()` a nastav popisek osy *x* a titulek grafu."
   ]
  },
  {
   "cell_type": "code",
   "execution_count": 18,
   "metadata": {},
   "outputs": [
    {
     "data": {
      "text/plain": [
       "Text(0.5, 1.0, 'Price of Twilio stocks')"
      ]
     },
     "execution_count": 18,
     "metadata": {},
     "output_type": "execute_result"
    },
    {
     "data": {
      "image/png": "[encoded data removed]",
      "text/plain": [
       "<Figure size 432x288 with 1 Axes>"
      ]
     },
     "metadata": {
      "needs_background": "light"
     },
     "output_type": "display_data"
    }
   ],
   "source": [
    "# wget.download(\"https://raw.githubusercontent.com/pesikj/python-012021/master/zadani/5/twlo.csv\")\n",
    "twilio = pd.read_csv(\"twlo.csv\")\n",
    "ax = twilio.plot(kind='line',x='Date',y='Close')\n",
    "ax.set_ylabel(\"Price in $\")\n",
    "ax.set_xlabel(\"Date\")\n",
    "ax.set_title(\"Price of Twilio stocks\")"
   ]
  },
  {
   "cell_type": "code",
   "execution_count": 19,
   "metadata": {},
   "outputs": [
    {
     "data": {
      "text/plain": [
       "Text(0.5, 1.0, 'Price of Twilio stocks')"
      ]
     },
     "execution_count": 19,
     "metadata": {},
     "output_type": "execute_result"
    },
    {
     "data": {
      "image/png": "[encoded data removed]",
      "text/plain": [
       "<Figure size 432x288 with 1 Axes>"
      ]
     },
     "metadata": {
      "needs_background": "light"
     },
     "output_type": "display_data"
    }
   ],
   "source": [
    "twilio[\"Date\"] = pd.to_datetime(twilio[\"Date\"])\n",
    "ax=twilio.plot(kind='line',x='Date',y='Close')\n",
    "ax.set_ylabel(\"Price in $\")\n",
    "ax.set_xlabel(\"Date\")\n",
    "ax.set_title(\"Price of Twilio stocks\")"
   ]
  },
  {
   "cell_type": "markdown",
   "metadata": {},
   "source": [
    "# 4. Velikonoce\n",
    "\n",
    "Ze souboru [velikonoce.csv](velikonoce.csv) načti data o tom, kolikrát na který datum připadaly Velikonoce v letech 1600 až 2100.\n",
    "\n",
    "```python\n",
    "import wget\n",
    "\n",
    "wget.download(\"https://raw.githubusercontent.com/pesikj/python-012021/master/zadani/7/velikonoce.csv\")\n",
    "\n",
    "```\n",
    "\n",
    "* Vytvoř sloupcový graf, který data přehledně zobrazí. Na ose *x* budou vidět jednotlivá data (\"datumy\") a výška sloupce označí, kolikrát na daný den připadly Velikonoce.\n",
    "\n",
    "Tentokrát jsou popisky a titulek povinné :-)\n",
    "\n",
    "Po zavolání funkce `plot()` si výsledek ulož do proměnné `ax`. Následně zavolej metodu `set_ylabel()`, abys nastavila popisek osy *y* grafu.\n",
    "\n",
    "```python\n",
    "ax = velikonoce.plot()\n",
    "ax.set_ylabel(\"Počet dnů\")\n",
    "```\n",
    "\n",
    "**Rozšířené zadání**\n",
    "\n",
    "Vytvoř si datový soubor sama. Můžeš k tomu využít modul `dateutil`, který při instalaci najdeš pod jménem `python-dateutil`. Následně si zkopíruj kód níže a doplň na místo komentářů příkazy, které prováději požadovanou činnost.\n",
    "\n",
    "```python\n",
    "\n",
    "import pandas\n",
    "from dateutil import easter\n",
    "\n",
    "data = []\n",
    "for rok in # sem doplň funkci range\n",
    "  datum = easter.easter(rok)\n",
    "  # Naformátuj datum jako řetězec tak, aby obsahovalo jen měsíc a den. Měsíc dej na začátek a za něj den - použij funkci strftime, kterou jsme spolu probírali\n",
    "  # Naformátovaný datum ulož do seznamu data\n",
    "\n",
    "data = pandas.DataFrame(data, columns=[\"Datum\"])\n",
    "data = data.groupby(\"Datum\").size()\n",
    "```\n"
   ]
  },
  {
   "cell_type": "code",
   "execution_count": 26,
   "metadata": {},
   "outputs": [
    {
     "data": {
      "text/plain": [
       "Text(0.5, 1.0, 'Easter days in years 1600-2100')"
      ]
     },
     "execution_count": 26,
     "metadata": {},
     "output_type": "execute_result"
    },
    {
     "data": {
      "image/png": "[encoded data removed]",
      "text/plain": [
       "<Figure size 432x288 with 1 Axes>"
      ]
     },
     "metadata": {
      "needs_background": "light"
     },
     "output_type": "display_data"
    }
   ],
   "source": [
    "# wget.download(\"https://raw.githubusercontent.com/pesikj/python-012021/master/zadani/7/velikonoce.csv\")\n",
    "easter = pd.read_csv('velikonoce.csv')\n",
    "ax= easter.plot(kind='bar')\n",
    "ax.set_ylabel('Count')\n",
    "ax.set_xlabel('Day')\n",
    "ax.set_title('Easter days in years 1600-2100')"
   ]
  },
  {
   "cell_type": "code",
   "execution_count": 34,
   "metadata": {},
   "outputs": [
    {
     "data": {
      "text/plain": [
       "Text(0.5, 1.0, 'Easter days in years 1600-2100')"
      ]
     },
     "execution_count": 34,
     "metadata": {},
     "output_type": "execute_result"
    },
    {
     "data": {
      "image/png": "[encoded data removed]",
      "text/plain": [
       "<Figure size 432x288 with 1 Axes>"
      ]
     },
     "metadata": {
      "needs_background": "light"
     },
     "output_type": "display_data"
    }
   ],
   "source": [
    "from dateutil import easter\n",
    "\n",
    "data = []\n",
    "for rok in range(1600,2101): # sem doplň funkci range\n",
    "    datum = easter.easter(rok)\n",
    "    datum = datum.strftime('%m-%d')\n",
    "    data.append(datum)\n",
    "\n",
    "data = pd.DataFrame(data, columns=[\"Datum\"])\n",
    "data = data.groupby(\"Datum\").size()\n",
    "ax= data.plot(kind='bar')\n",
    "ax.set_ylabel('Count')\n",
    "ax.set_xlabel('Day')\n",
    "ax.set_title('Easter days in years 1600-2100')"
   ]
  },
  {
   "cell_type": "markdown",
   "metadata": {},
   "source": [
    "# 5. Teplota ve městech popáté\n",
    "\n",
    "Vrať se k práci se souborem [temperature.csv](temperature.csv), který obsahuje informace o průměrné teplotě v různých městech v **listopadu 2017**.\n",
    "\n",
    "```python\n",
    "import wget\n",
    "wget.download(\"https://raw.githubusercontent.com/pesikj/python-012021/master/zadani/5/temperature.csv\")\n",
    "```\n",
    "\n",
    "* Vytvoř tabulku, která bude obsahovat údaje o teplotě za města Helsinki, Miami Beach a Tokyo.\n",
    "* Vytvoř krabicový graf a porovnej rozsah teplot v těchto městech.\n"
   ]
  },
  {
   "cell_type": "code",
   "execution_count": 45,
   "metadata": {},
   "outputs": [
    {
     "data": {
      "image/png": "[encoded data removed]",
      "text/plain": [
       "<Figure size 432x288 with 1 Axes>"
      ]
     },
     "metadata": {
      "needs_background": "light"
     },
     "output_type": "display_data"
    },
    {
     "data": {
      "image/png": "[encoded data removed]",
      "text/plain": [
       "<Figure size 432x288 with 1 Axes>"
      ]
     },
     "metadata": {
      "needs_background": "light"
     },
     "output_type": "display_data"
    },
    {
     "data": {
      "image/png": "[encoded data removed]",
      "text/plain": [
       "<Figure size 432x288 with 1 Axes>"
      ]
     },
     "metadata": {
      "needs_background": "light"
     },
     "output_type": "display_data"
    }
   ],
   "source": [
    "teploty = pd.read_csv('temperature.csv',index_col=0)\n",
    "for city in ['Helsinki','Miami Beach','Tokyo']:\n",
    "    teploty[teploty.City == city].plot(kind='box',title=city)\n",
    "    \n",
    "# V helsinkach je teplota nejnizsi, potom Tokyo , nejtepleji v Miami Beach"
   ]
  },
  {
   "cell_type": "code",
   "execution_count": null,
   "metadata": {},
   "outputs": [],
   "source": []
  }
 ],
 "metadata": {
  "kernelspec": {
   "display_name": "Python 3",
   "language": "python",
   "name": "python3"
  },
  "language_info": {
   "codemirror_mode": {
    "name": "ipython",
    "version": 3
   },
   "file_extension": ".py",
   "mimetype": "text/x-python",
   "name": "python",
   "nbconvert_exporter": "python",
   "pygments_lexer": "ipython3",
   "version": "3.9.0"
  }
 },
 "nbformat": 4,
 "nbformat_minor": 4
}
