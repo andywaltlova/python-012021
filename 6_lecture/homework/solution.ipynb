{
 "cells": [
  {
   "cell_type": "code",
   "execution_count": null,
   "id": "ordinary-diary",
   "metadata": {},
   "outputs": [],
   "source": [
    "import wget\n",
    "import pandas as pd\n",
    "import numpy as np"
   ]
  },
  {
   "cell_type": "markdown",
   "id": "mathematical-importance",
   "metadata": {},
   "source": [
    "# 1. Zaměstnanci\n",
    "\n",
    "```python\n",
    "\n",
    "import wget\n",
    "\n",
    "wget.download(\"https://raw.githubusercontent.com/pesikj/python-012021/master/zadani/6/zam_praha.csv\")\n",
    "wget.download(\"https://raw.githubusercontent.com/pesikj/python-012021/master/zadani/6/zam_plzeň.csv\")\n",
    "wget.download(\"https://raw.githubusercontent.com/pesikj/python-012021/master/zadani/6/zam_liberec.csv\")\n",
    "wget.download(\"https://raw.githubusercontent.com/pesikj/python-012021/master/zadani/6/platy_2021_02.csv\")\n",
    "\n",
    "```\n",
    "\n",
    "Uvažuj, že zpracováváš analýzu pro softwarovou firmu. Firma má kanceláře v Praze, Plzni a Liberci. Seznam zaměstnanců pro jednotlivé kanceláře najdeš v souborech [zam_praha.csv](zam_praha.csv), [zam_plzeň.csv](zam_plzeň.csv) a [zam_liberec.csv](zam_liberec.csv).\n",
    "\n",
    "* Načti data o zaměstnancích z CSV souborů do tabulek (`DataFrame`). Ke každé tabulce přidej nový sloupec `mesto`, které bude obsahovat informaci o tom, ve kterém městě zaměstnanec pracuje. \n",
    "* Vytvoř novou tabulku `zamestnanci` a ulož do ní informace o všech zaměstnancích.\n",
    "* Ze souboru [platy_2021_02.csv](platy_2021_02.csv) načti platy zaměstnanců za únor 2021. Propoj tabulku (operace join) s platy a tabulku se zaměstnanci pomocí sloupce `cislo_zamestnance`.\n",
    "* Porovnej rozměry tabulek před spojením a po spojení. Pokud nemá některý zaměstnanec plat za únor, znamená to, že v naší firmě již nepracuje.\n",
    "* Spočti průměrný plat zaměstnanců v jednotlivých kancelářích.\n",
    "\n",
    "\n",
    "## Dobrovolný doplněk\n",
    "\n",
    "* Ulož do proměnné počet zaměstnaců, kteří v naší firmě již nepracují.\n",
    "* V rámci úspory se IT oddělení rozhodlo prověřit licence přidělené zaměstnancům, kteří ve firmě již nepracují. Vytvoř samostatnou tabulku, která obsahuje jména zaměstnanců, kteří ve firmě již nepracují. Tabulku ulož do souboru CSV."
   ]
  },
  {
   "cell_type": "code",
   "execution_count": null,
   "id": "naval-program",
   "metadata": {},
   "outputs": [],
   "source": [
    "praha = pd.read_csv('zam_praha.csv')\n",
    "praha['mesto'] = 'Praha'\n",
    "plzen = pd.read_csv('zam_plzeň.csv')\n",
    "plzen['mesto'] = 'Plzeň'\n",
    "liberec = pd.read_csv('zam_liberec.csv')\n",
    "liberec['mesto'] = 'Liberec'\n",
    "\n",
    "zamestnanci = pd.concat([praha,plzen,liberec], ignore_index=True)\n",
    "zamestnanci.shape"
   ]
  },
  {
   "cell_type": "code",
   "execution_count": null,
   "id": "parental-elite",
   "metadata": {},
   "outputs": [],
   "source": [
    "platy = pd.read_csv('platy_2021_02.csv')\n",
    "\n",
    "zamestnanci = pd.merge(zamestnanci,platy,how='left' ,on=['cislo_zamestnance'])\n",
    "zamestnanci.shape"
   ]
  },
  {
   "cell_type": "code",
   "execution_count": null,
   "id": "sublime-australian",
   "metadata": {},
   "outputs": [],
   "source": [
    "zamestnanci.groupby('mesto').plat.mean()"
   ]
  },
  {
   "cell_type": "code",
   "execution_count": null,
   "id": "actual-relation",
   "metadata": {},
   "outputs": [],
   "source": [
    "uz_nepracuji = zamestnanci[zamestnanci.plat.isnull()]\n",
    "uz_nepracuji_count = uz_nepracuji.shape[0]\n",
    "\n",
    "uz_nepracuji"
   ]
  },
  {
   "cell_type": "markdown",
   "id": "proprietary-lobby",
   "metadata": {},
   "source": [
    "# 2. Projekty\n",
    "\n",
    "```python\n",
    "\n",
    "import wget\n",
    "\n",
    "wget.download(\"https://raw.githubusercontent.com/pesikj/python-012021/master/zadani/6/vykazy.csv\")\n",
    "\n",
    "```\n",
    "\n",
    "Pokračuj ve své práci pro softwarovou firmu. Ze souboru [vykazy.csv](vykazy.csv) načti informace o výkazech na projekty pro jednoho vybraného zákazníka.\n",
    "\n",
    "* Načti data ze souboru a ulož je do tabulky.\n",
    "* Proveď agregaci a zjisti celkový počet vykázaných hodin za jednotlivé projekty.\n",
    "\n",
    "## Dobrovolný doplněk\n",
    "\n",
    "Propoj tabulku s výkazy s tabulkou se zaměstnanci, kterou jsi vytvořil(a) v předchozím cvičení. Následně proveď statistiku vykázaných hodin za jednotlivé kanceláře, tj. spočítej celkový počet hodin vykázaný zaměstnanci jednotlivých kanceláří na projekty daného zákazníka.\n"
   ]
  },
  {
   "cell_type": "code",
   "execution_count": null,
   "id": "italic-weekend",
   "metadata": {},
   "outputs": [],
   "source": [
    "vykazy = pd.read_csv('vykazy.csv')\n",
    "\n",
    "vykazy.groupby('project').hours.sum()"
   ]
  },
  {
   "cell_type": "code",
   "execution_count": null,
   "id": "graphic-synthesis",
   "metadata": {},
   "outputs": [],
   "source": [
    "zamestnanci_2 = pd.merge(zamestnanci, vykazy, how='left',left_on='cislo_zamestnance',right_on='emloyee_id')\n",
    "zamestnanci_2 = zamestnanci_2.drop(columns=['emloyee_id'])\n",
    "zamestnanci_2.groupby(['mesto','project']).hours.sum()"
   ]
  },
  {
   "cell_type": "markdown",
   "id": "declared-queens",
   "metadata": {},
   "source": [
    "# 3. Státy světa potřetí\n",
    "\n",
    "```python\n",
    "\n",
    "import wget\n",
    "\n",
    "wget.download(\"https://raw.githubusercontent.com/pesikj/python-012021/master/zadani/6/staty.json\")\n",
    "wget.download(\"https://raw.githubusercontent.com/pesikj/python-012021/master/zadani/6/gdp.csv\")\n",
    "\n",
    "```\n",
    "\n",
    "V souboru [staty.json](staty.json) jsou uložena data s informacemi o státech světa, se kterými jsme již pracovali. Zkusme nyní zpracovat podobné úlohy pomocí `pandas`.\n",
    "\n",
    "* Načti data ze souboru do tabulky.\n",
    "* Vyfiltruj státy, které leží v Evropě.\n",
    "* Zjisti počet států v jednotlivých subregionech Evropy.\n",
    "* Zjisti cekový počet obyvatel v jednotlivých subregionech Evropy.\n",
    "\n",
    "## Rozšíření zadání\n",
    "\n",
    "V souboru [staty.json](staty.json) jsou uložena data s informacemi o státech světa, se kterými jsme již pracovali. V souboru [gdp.csv](gdp.csv) jsou dále informace o hrubém domácím produktu (Gross Domestic Product - GDP) států za roky 2017-2019 ze Světové banky.\n",
    "\n",
    "* Načti informace ze souborů do tabulek. Z tabulky s GDP odeber státy, které nemají kompletní informace GDP (tj. ponech pouze státy, které mají kompletní data za všechny tři roky).\n",
    "* Propoj obě tabulky podle třípísmenného kódu států.\n",
    "* Spočti celkové HDP za rok 2019 a celkový počet obyvatel za jednotlivé subregiony.\n",
    "* Projdi si subkapitolu o [počítaných sloupcích](https://kodim.cz/czechitas/progr2-python/python-pro-data-1/agregace-a-spojovani/#pocitane-sloupce) (část o podmínených sloupcích není nutné číst). K tabulce, kterou jsi vytovřila v předchozím kroku, vypočti GDP v roce 2019 na obyvatele, tj. přidej sloupec s velikostí GDP v roce 2019 vydělenou počtem obyvatel daného subregionu."
   ]
  },
  {
   "cell_type": "code",
   "execution_count": null,
   "id": "established-independence",
   "metadata": {},
   "outputs": [],
   "source": [
    "staty = pd.read_json('staty.json')\n",
    "staty.head()"
   ]
  },
  {
   "cell_type": "code",
   "execution_count": null,
   "id": "modified-denmark",
   "metadata": {},
   "outputs": [],
   "source": [
    "evropa = staty[staty.region =='Europe']\n",
    "evropa.head()"
   ]
  },
  {
   "cell_type": "code",
   "execution_count": null,
   "id": "diagnostic-retailer",
   "metadata": {},
   "outputs": [],
   "source": [
    "evropa.groupby('subregion').name.count()"
   ]
  },
  {
   "cell_type": "code",
   "execution_count": null,
   "id": "vietnamese-macintosh",
   "metadata": {},
   "outputs": [],
   "source": [
    "evropa.groupby('subregion').population.sum()"
   ]
  },
  {
   "cell_type": "code",
   "execution_count": null,
   "id": "incredible-booth",
   "metadata": {},
   "outputs": [],
   "source": [
    "gdp = pd.read_csv('gdp.csv')\n",
    "gdp = gdp.dropna(subset=['2017','2018','2019'])\n",
    "gdp.head()"
   ]
  },
  {
   "cell_type": "code",
   "execution_count": null,
   "id": "unavailable-pencil",
   "metadata": {},
   "outputs": [],
   "source": [
    "staty = pd.merge(staty,gdp,how='left',left_on='alpha3Code', right_on='Country Code')\n",
    "staty = staty.drop(columns=['Country Name','Country Code'])\n",
    "staty.head()"
   ]
  },
  {
   "cell_type": "code",
   "execution_count": null,
   "id": "beneficial-entry",
   "metadata": {},
   "outputs": [],
   "source": [
    "staty['2019'].sum()"
   ]
  },
  {
   "cell_type": "code",
   "execution_count": null,
   "id": "human-norman",
   "metadata": {},
   "outputs": [],
   "source": [
    "staty.groupby('subregion').population.sum()"
   ]
  },
  {
   "cell_type": "code",
   "execution_count": null,
   "id": "plain-hammer",
   "metadata": {},
   "outputs": [],
   "source": [
    "staty[\"gdp2019dividetByPopulation\"] = staty['2019'] /staty[\"population\"]\n",
    "staty"
   ]
  },
  {
   "cell_type": "markdown",
   "id": "independent-spring",
   "metadata": {},
   "source": [
    "# 4. Teplota ve městech potřetí\n",
    "\n",
    "Vrať se k práci se souborem [temperature.csv](temperature.csv), který obsahuje informace o průměrné teplotě v různých městech v **listopadu 2017**.\n",
    "\n",
    "```python\n",
    "import wget\n",
    "wget.download(\"https://raw.githubusercontent.com/pesikj/python-012021/master/zadani/5/temperature.csv\")\n",
    "```\n",
    "\n",
    "*Pokud jsi v minulé lekci zpracovala rozšířené zadání, můžeš pracovat s teplotami ve stupních Celsia.*\n",
    "\n",
    "* Vyfiltruj si informace o teplotách 13. listopadu 2017.\n",
    "* Vyřaď všechny záznamy, které mají teplotu -99, protože tato hodnota je pravděpodobně chybná.\n",
    "* Vypočti počet dat, které máš pro daný den za jednotlivé regiony.\n",
    "* Vypočti průměrnou teplotu za jednotlivé regiony.\n",
    "* Vypočti maximální a minimální teplotu v každém regionu. \n"
   ]
  },
  {
   "cell_type": "code",
   "execution_count": null,
   "id": "valuable-edward",
   "metadata": {},
   "outputs": [],
   "source": [
    "# Moc mi nevyhovuje kdyz na sebe ukoly navazuji, zabere mi moc casu vzpomenout si co jsem vlastne delala minule\n",
    "teploty = pd.read_csv('temperature.csv', index_col=0)\n",
    "teploty_13 = teploty[(teploty.Day==13)]\n",
    "\n",
    "teploty = teploty[teploty.AvgTemperature != -99.0]\n",
    "teploty"
   ]
  },
  {
   "cell_type": "code",
   "execution_count": null,
   "id": "desperate-contractor",
   "metadata": {},
   "outputs": [],
   "source": [
    "teploty.groupby('Region').Country.count()"
   ]
  },
  {
   "cell_type": "code",
   "execution_count": null,
   "id": "funny-saying",
   "metadata": {},
   "outputs": [],
   "source": [
    "teploty.groupby('Region').AvgTemperature.mean()"
   ]
  },
  {
   "cell_type": "code",
   "execution_count": null,
   "id": "beginning-girlfriend",
   "metadata": {},
   "outputs": [],
   "source": [
    "teploty.groupby('Region').agg({'AvgTemperature': [np.min,np.max]})"
   ]
  },
  {
   "cell_type": "markdown",
   "id": "likely-parking",
   "metadata": {},
   "source": [
    "# 5. Export do Excelu\n",
    "\n",
    "`pandas` umí uložit data i do Excel sešitu, se kterým se bude uživatelům lépe pracovat. K ukádání do Excelu využívá `pandas` modul `openpyxl`, který ale není nainstalován automaticky.\n",
    "\n",
    "* Nainstaluj si modul `openpyxl` standardním způsobem, který jsme si ukazovali v lekci.\n",
    "* Ulož tabulku s cekovými počty vykázaných hodin, kterou jsi vytvořila [v příkladu 27](priklad27.md) jako Excel soubor. Pokud jsi tento příklad nezpracovala, ulož libovolnou jinou tabulku jako Excel sešit. Výsledný sešit si otevři a zkontroluj. K uložení použij funkci `to_excel`, se kterou pracuj stejně, jako jsme na lekci pracovali s funkci `to_csv`.\n",
    "* Zkus data z Excelu naopak načíst pomocí funkci `read_excel()` a ověř, že se soubor načetl v pořádku.\n",
    "\n",
    "## Rozšířené zadání\n",
    "\n",
    "Modul `openpyxl` lze používat i samostatně. Přehled jeho funkcí najdeš [v dokumentaci](https://openpyxl.readthedocs.io/en/stable/tutorial.html).\n",
    "\n",
    "Zkus pomocí modulu zapsat rozvrh hodin jako tabulku v Excel sešitu. Níže máš program, který obsahuje rozvrh hodin jako dvourozměrný seznam. Vnitřní seznamy obsahují předměty v rozvrhu, jeden vnitřní seznam vždy obsahuje předměty pro daný den.\n",
    "\n",
    "Podívej se nejprve na ukázku. Jednoduchý program níže zapíše hodnotu `Test` do buňky B1 a výsledek uloží souboru `rozvrh_hodin.xlsx`. Pokud neznáš terminologii Excelu, pak `Workbook` označuje sešit, tj. celý \"soubor\". `ws` se odkazuje na `Work Sheet`, což je list, tj. jedna \"záložka\". Náš soubor bude mít jen jeden list, čímž je situace jednoduchá.\n",
    "\n",
    "```python\n",
    "from openpyxl import Workbook\n",
    "\n",
    "wb = Workbook()\n",
    "ws1 = wb.active\n",
    "ws1.title = \"rozvrh\"\n",
    "cislo_radku = 1\n",
    "cislo_sloupce = 2\n",
    "\n",
    "bunka = ws1.cell(cislo_radku, cislo_sloupce)\n",
    "bunka.value = \"Test\"\n",
    "\n",
    "wb.save(filename=\"rozvrh_hodin.xlsx\")\n",
    "```\n",
    "\n",
    "Projdi si nyní následující program a v programu doplň kód na zápis názvu předmětu do buňky.\n",
    "\n",
    "```python\n",
    "from openpyxl import Workbook\n",
    "from openpyxl.styles import PatternFill\n",
    "\n",
    "wb = Workbook()\n",
    "ws1 = wb.active\n",
    "ws1.title = \"rozvrh\"\n",
    "\n",
    "rozvrh_hodin = [\n",
    "  [\"Anglický jazyk\", \"Přírodopis\", \"Dějepis\", \"Matematika\", \"Oběd\", \"Tělesná výchova\", \"Tělesná výchova\", ],\n",
    "  [\"Občanská výchova\", \"Hudební výchova\", \"Matematika\", \"Oběd\", \"Výtvarná výchova\", \"Dějepis\", ],\n",
    "  [\"Matematika\", \"Chemie\", \"Přírodopis\", \"Fyzika\", \"Oběd\", \"Zeměpis\", ],\n",
    "  [\"Fyzika\", \"Anglický jazyk\", \"Matematika\", \"Český jazyk\", \"Dějepis\", \"Oběd\", ],\n",
    "  [\"Český jazyk\", \"Zeměpis\", \"Český jazyk\", \"Výtvarná výchova\", \"Oběd\", ]\n",
    "]\n",
    "radek = 1\n",
    "for den in rozvrh_hodin:\n",
    "  sloupec = 1\n",
    "  for predmet in den:\n",
    "    # Zde zapiš kód pro uložení předmětu do buňky\n",
    "    bunka = ws1.cell(radek, sloupec)\n",
    "    bunka.value = predmet\n",
    "    sloupec += 1\n",
    "  radek += 1\n",
    "\n",
    "wb.save(filename=\"rozvrh_hodin.xlsx\")\n",
    "```\n",
    "\n",
    "### Dobrovolný doplněk rozšířeného zadání :-)\n",
    "\n",
    "Modul `openpyxl` je silný v možnostech formátování, které nabízí. Podívej se na rozšířený příklad níže. Ten kromě zápisu hodnoty nastaví buňce šedivou barvu jako pozadí. \n",
    "\n",
    "Přehled barev, které můžeš použít, najdeš [v dokumentaci](https://openpyxl.readthedocs.io/en/stable/styles.html#indexed-colours).\n",
    "\n",
    "```python\n",
    "from openpyxl import Workbook\n",
    "from openpyxl.styles import PatternFill\n",
    "\n",
    "wb = Workbook()\n",
    "ws1 = wb.active\n",
    "ws1.title = \"rozvrh\"\n",
    "cislo_radku = 1\n",
    "cislo_sloupce = 2\n",
    "\n",
    "bunka = ws1.cell(cislo_radku, cislo_sloupce)\n",
    "bunka.value = \"Test\"\n",
    "\n",
    "# Určím si barvu\n",
    "sediva_barva = PatternFill(\"solid\", fgColor=\"00C0C0C0\")\n",
    "# Přiřadím barvu buňce\n",
    "bunka.fill = sediva_barva\n",
    "\n",
    "wb.save(filename=\"rozvrh_hodin.xlsx\")\n",
    "```\n",
    "\n",
    "Vrať se ke svému programu a zkus vytvořit rozvrh obarvený. Například můžeš zkusit podbarvit oběd šedě a poté třeba nastavit nějakou barvu výchovám, jinou barvu jazykům atd.\n"
   ]
  },
  {
   "cell_type": "code",
   "execution_count": null,
   "id": "major-second",
   "metadata": {},
   "outputs": [],
   "source": [
    "from openpyxl import Workbook\n",
    "from openpyxl.styles import PatternFill\n",
    "\n",
    "wb = Workbook()\n",
    "ws1 = wb.active\n",
    "ws1.title = \"rozvrh\"\n",
    "\n",
    "rozvrh_hodin = [\n",
    "  [\"Anglický jazyk\", \"Přírodopis\", \"Dějepis\", \"Matematika\", \"Oběd\", \"Tělesná výchova\", \"Tělesná výchova\", ],\n",
    "  [\"Občanská výchova\", \"Hudební výchova\", \"Matematika\", \"Oběd\", \"Výtvarná výchova\", \"Dějepis\", ],\n",
    "  [\"Matematika\", \"Chemie\", \"Přírodopis\", \"Fyzika\", \"Oběd\", \"Zeměpis\", ],\n",
    "  [\"Fyzika\", \"Anglický jazyk\", \"Matematika\", \"Český jazyk\", \"Dějepis\", \"Oběd\", ],\n",
    "  [\"Český jazyk\", \"Zeměpis\", \"Český jazyk\", \"Výtvarná výchova\", \"Oběd\", ]\n",
    "]\n",
    "radek = 1\n",
    "for den in rozvrh_hodin:\n",
    "  sloupec = 1\n",
    "  for predmet in den:\n",
    "    # Zde zapiš kód pro uložení předmětu do buňky\n",
    "    bunka = ws1.cell(radek, sloupec)\n",
    "    bunka.fill = get_fill(predmet)\n",
    "    bunka.value = predmet\n",
    "    sloupec += 1\n",
    "  radek += 1\n",
    "\n",
    "wb.save(filename=\"rozvrh_hodin.xlsx\")"
   ]
  },
  {
   "cell_type": "code",
   "execution_count": null,
   "id": "warming-symphony",
   "metadata": {},
   "outputs": [],
   "source": [
    "def get_fill(subject):\n",
    "    if 'Oběd' == subject:\n",
    "        return PatternFill(\"solid\", fgColor=\"0000FF00\")\n",
    "    if 'výchova' in subject:\n",
    "        return PatternFill(\"solid\", fgColor=\"00FFFF00\")\n",
    "    if 'jazyk' in subject:\n",
    "        return PatternFill(\"solid\", fgColor=\"0099CCFF\")\n",
    "    return PatternFill(\"solid\", fgColor=\"00C0C0C0\")\n",
    "        "
   ]
  },
  {
   "cell_type": "code",
   "execution_count": null,
   "id": "pleasant-outline",
   "metadata": {},
   "outputs": [],
   "source": []
  }
 ],
 "metadata": {
  "kernelspec": {
   "display_name": "Python 3",
   "language": "python",
   "name": "python3"
  },
  "language_info": {
   "codemirror_mode": {
    "name": "ipython",
    "version": 3
   },
   "file_extension": ".py",
   "mimetype": "text/x-python",
   "name": "python",
   "nbconvert_exporter": "python",
   "pygments_lexer": "ipython3",
   "version": "3.9.0"
  }
 },
 "nbformat": 4,
 "nbformat_minor": 5
}
